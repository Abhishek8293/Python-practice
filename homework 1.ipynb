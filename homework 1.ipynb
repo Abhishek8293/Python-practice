{
 "cells": [
  {
   "cell_type": "code",
   "execution_count": 2,
   "id": "c9ad1eef",
   "metadata": {},
   "outputs": [
    {
     "name": "stdout",
     "output_type": "stream",
     "text": [
      "6.0 unit square\n"
     ]
    }
   ],
   "source": [
    "# AREA OF TRIANGLE\n",
    "AB = 4\n",
    "BC = 5\n",
    "CA = 3\n",
    "Area = (1/2)*AB*CA\n",
    "print(Area,'unit square')"
   ]
  },
  {
   "cell_type": "code",
   "execution_count": 4,
   "id": "c3418591",
   "metadata": {},
   "outputs": [
    {
     "name": "stdout",
     "output_type": "stream",
     "text": [
      "785.0 cube centimeter\n"
     ]
    }
   ],
   "source": [
    "#VOLUME OF CYLINDER\n",
    "R = 5\n",
    "L = 10\n",
    "volume = (3.14)*(R*R)*L\n",
    "print(volume,'cube centimeter')"
   ]
  },
  {
   "cell_type": "code",
   "execution_count": 12,
   "id": "c09fb26b",
   "metadata": {},
   "outputs": [
    {
     "name": "stdout",
     "output_type": "stream",
     "text": [
      "if he sells on original price of milk =  540\n",
      "if he sells on mixture price of milk =  600\n",
      "profit amount 60\n",
      "11.11 % \n"
     ]
    }
   ],
   "source": [
    "# MILK PROBLEM\n",
    "milk = 10 # 10 liter of milk \n",
    "original_price = 54 #original price of milk\n",
    "mixture_price = 60 \n",
    "E1 = (milk*original_price) #E1 is the total earning from original price\n",
    "print('if he sells on original price of milk = ',E1)\n",
    "E2 = (milk*mixture_price)\n",
    "print('if he sells on mixture price of milk = ',E2)\n",
    "profit = (E2-E1)\n",
    "print('profit amount',profit)\n",
    "profit_percentage = (60/540)*100\n",
    "roun_d = round(profit_percentage,2)\n",
    "print(roun_d,'% ')"
   ]
  },
  {
   "cell_type": "code",
   "execution_count": 1,
   "id": "ad475c32",
   "metadata": {},
   "outputs": [
    {
     "data": {
      "text/plain": [
       "['False',\n",
       " 'None',\n",
       " 'True',\n",
       " '__peg_parser__',\n",
       " 'and',\n",
       " 'as',\n",
       " 'assert',\n",
       " 'async',\n",
       " 'await',\n",
       " 'break',\n",
       " 'class',\n",
       " 'continue',\n",
       " 'def',\n",
       " 'del',\n",
       " 'elif',\n",
       " 'else',\n",
       " 'except',\n",
       " 'finally',\n",
       " 'for',\n",
       " 'from',\n",
       " 'global',\n",
       " 'if',\n",
       " 'import',\n",
       " 'in',\n",
       " 'is',\n",
       " 'lambda',\n",
       " 'nonlocal',\n",
       " 'not',\n",
       " 'or',\n",
       " 'pass',\n",
       " 'raise',\n",
       " 'return',\n",
       " 'try',\n",
       " 'while',\n",
       " 'with',\n",
       " 'yield']"
      ]
     },
     "execution_count": 1,
     "metadata": {},
     "output_type": "execute_result"
    }
   ],
   "source": [
    "import keyword\n",
    "keyword.kwlist"
   ]
  },
  {
   "cell_type": "code",
   "execution_count": null,
   "id": "fd7241a0",
   "metadata": {},
   "outputs": [],
   "source": []
  }
 ],
 "metadata": {
  "kernelspec": {
   "display_name": "Python 3 (ipykernel)",
   "language": "python",
   "name": "python3"
  },
  "language_info": {
   "codemirror_mode": {
    "name": "ipython",
    "version": 3
   },
   "file_extension": ".py",
   "mimetype": "text/x-python",
   "name": "python",
   "nbconvert_exporter": "python",
   "pygments_lexer": "ipython3",
   "version": "3.9.12"
  }
 },
 "nbformat": 4,
 "nbformat_minor": 5
}
