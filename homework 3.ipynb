{
 "cells": [
  {
   "cell_type": "code",
   "execution_count": 2,
   "id": "93636e16",
   "metadata": {},
   "outputs": [
    {
     "name": "stdout",
     "output_type": "stream",
     "text": [
      "short\n"
     ]
    }
   ],
   "source": [
    "chandan =190\n",
    "abhishek =160\n",
    "princy = 170\n",
    "renuka = 155\n",
    "amisha = 140\n",
    "avg =(chandan+abhishek+princy+renuka+amisha)/5\n",
    "\n",
    "if avg>165:\n",
    "    print(\"tall\")\n",
    "if avg<165:\n",
    "    print(\"short\")\n"
   ]
  },
  {
   "cell_type": "code",
   "execution_count": 4,
   "id": "3acf1f37",
   "metadata": {},
   "outputs": [
    {
     "name": "stdout",
     "output_type": "stream",
     "text": [
      "x is odd\n"
     ]
    }
   ],
   "source": [
    "# Q1. find the even and odd of total of three numbers\n",
    "\n",
    "a = 4\n",
    "b = 3\n",
    "c = 8\n",
    "x = a+b+c\n",
    "if x%2 ==0: # % is a modulus operator which gives the reminder\n",
    "    print('x is even')\n",
    "if x%2 != 0:\n",
    "    print('x is odd')"
   ]
  },
  {
   "cell_type": "code",
   "execution_count": 4,
   "id": "5b0a94a0",
   "metadata": {},
   "outputs": [
    {
     "name": "stdout",
     "output_type": "stream",
     "text": [
      "70\n",
      "45\n",
      "loss % =  35.714285714285715\n"
     ]
    }
   ],
   "source": [
    "# Q2. calculate profit and loss\n",
    "p = float(input( )) #purchase price\n",
    "s = float(input( )) #selling price\n",
    "profit = s-p\n",
    "loss = p-s\n",
    "if s>p:\n",
    "    print('profit % = ',(profit*100)/p)\n",
    "    \n",
    "else:\n",
    "    print('loss % = ',(loss*100)/p)"
   ]
  },
  {
   "cell_type": "code",
   "execution_count": 3,
   "id": "5d333b27",
   "metadata": {},
   "outputs": [
    {
     "name": "stdout",
     "output_type": "stream",
     "text": [
      "14\n",
      "PM\n"
     ]
    }
   ],
   "source": [
    "# Q3. write a program to print AM or PM\n",
    "\n",
    "a = float(input())\n",
    "\n",
    "if a<12 and a>1:\n",
    "    print('AM')\n",
    "if a>=12 and a<=24:\n",
    "    print('PM')\n",
    "if a>24:\n",
    "    print('ERROR enter the value between 1 to 24')"
   ]
  },
  {
   "cell_type": "code",
   "execution_count": 7,
   "id": "28c306f3",
   "metadata": {},
   "outputs": [
    {
     "name": "stdout",
     "output_type": "stream",
     "text": [
      "14\n",
      "PM\n"
     ]
    }
   ],
   "source": [
    "hour = input()\n",
    "hour = float(hour)\n",
    "hour = int(hour)\n",
    "if 0<=hour<12:\n",
    "    print(\"AM\")\n",
    "else:\n",
    "    print('PM')"
   ]
  },
  {
   "cell_type": "code",
   "execution_count": 10,
   "id": "1d730acf",
   "metadata": {},
   "outputs": [
    {
     "name": "stdout",
     "output_type": "stream",
     "text": [
      "19\n",
      "one star rating\n"
     ]
    }
   ],
   "source": [
    "value = input( )\n",
    "value = float(value)\n",
    "value = int(value)\n",
    "if value%6 ==0:\n",
    "    print('zero star rating')\n",
    "elif value%6 == 1:\n",
    "    print('one star rating')\n",
    "elif value%6 == 2:\n",
    "    print('two star rating')\n",
    "elif value%6 == 3:\n",
    "    print('three star rating')\n",
    "elif value%6 == 4:\n",
    "    print('four star rating')\n",
    "else:\n",
    "    print('five star rating')"
   ]
  },
  {
   "cell_type": "code",
   "execution_count": 13,
   "id": "d9857d34",
   "metadata": {},
   "outputs": [
    {
     "name": "stdout",
     "output_type": "stream",
     "text": [
      "14\n",
      "PM\n"
     ]
    }
   ],
   "source": [
    "#nested if \n",
    "hour = input()\n",
    "hour = float(hour)\n",
    "if 0.0<=hour<=24.0:\n",
    "    hour = int(hour)\n",
    "    if 0<=hour<12:\n",
    "        print(\"AM\")\n",
    "    else:\n",
    "        print('PM')\n",
    "else:\n",
    "    print('wrong input')"
   ]
  },
  {
   "cell_type": "code",
   "execution_count": null,
   "id": "1da9630a",
   "metadata": {},
   "outputs": [],
   "source": []
  },
  {
   "cell_type": "code",
   "execution_count": null,
   "id": "f64d94c9",
   "metadata": {},
   "outputs": [],
   "source": []
  },
  {
   "cell_type": "code",
   "execution_count": null,
   "id": "c416a841",
   "metadata": {},
   "outputs": [],
   "source": []
  },
  {
   "cell_type": "code",
   "execution_count": null,
   "id": "eed5415d",
   "metadata": {},
   "outputs": [],
   "source": []
  },
  {
   "cell_type": "code",
   "execution_count": null,
   "id": "8d4beefc",
   "metadata": {},
   "outputs": [],
   "source": []
  },
  {
   "cell_type": "code",
   "execution_count": null,
   "id": "9869d813",
   "metadata": {},
   "outputs": [],
   "source": []
  },
  {
   "cell_type": "code",
   "execution_count": null,
   "id": "3fac7b15",
   "metadata": {},
   "outputs": [],
   "source": []
  },
  {
   "cell_type": "code",
   "execution_count": null,
   "id": "a3f39a02",
   "metadata": {},
   "outputs": [],
   "source": []
  }
 ],
 "metadata": {
  "kernelspec": {
   "display_name": "Python 3 (ipykernel)",
   "language": "python",
   "name": "python3"
  },
  "language_info": {
   "codemirror_mode": {
    "name": "ipython",
    "version": 3
   },
   "file_extension": ".py",
   "mimetype": "text/x-python",
   "name": "python",
   "nbconvert_exporter": "python",
   "pygments_lexer": "ipython3",
   "version": "3.9.12"
  }
 },
 "nbformat": 4,
 "nbformat_minor": 5
}
