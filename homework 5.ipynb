{
 "cells": [
  {
   "cell_type": "code",
   "execution_count": 7,
   "id": "44d11439",
   "metadata": {},
   "outputs": [
    {
     "name": "stdout",
     "output_type": "stream",
     "text": [
      "enter the value7\n",
      "factorial of 7 is 5040\n"
     ]
    }
   ],
   "source": [
    "#Q. calculate factorial of any given number\n",
    "n = int(input('enter the value'))\n",
    "f = 1\n",
    "for i in range(n,0,-1):\n",
    "    f = f*i\n",
    "print(\"factorial of\",n, 'is',f)"
   ]
  },
  {
   "cell_type": "code",
   "execution_count": 8,
   "id": "841da0f7",
   "metadata": {},
   "outputs": [
    {
     "name": "stdout",
     "output_type": "stream",
     "text": [
      "enter the value 7919\n",
      "prime number\n"
     ]
    }
   ],
   "source": [
    "# Q. To find given number is prime or not\n",
    "n = int(input('enter the value '))\n",
    "for i in range(2,n):\n",
    "    if n%i ==0:\n",
    "        print('not a prime number')\n",
    "        break\n",
    "else:\n",
    "    print('prime number')"
   ]
  },
  {
   "cell_type": "code",
   "execution_count": 4,
   "id": "0912858b",
   "metadata": {},
   "outputs": [
    {
     "name": "stdout",
     "output_type": "stream",
     "text": [
      "1\n",
      "3\n",
      "7\n",
      "9\n",
      "11\n",
      "13\n",
      "17\n",
      "19\n",
      "21\n",
      "23\n",
      "27\n",
      "29\n",
      "31\n",
      "33\n",
      "37\n",
      "39\n",
      "41\n",
      "43\n",
      "47\n",
      "49\n",
      "51\n",
      "53\n",
      "57\n",
      "59\n",
      "61\n",
      "63\n",
      "67\n",
      "69\n",
      "71\n",
      "73\n",
      "77\n",
      "79\n",
      "81\n",
      "83\n",
      "87\n",
      "89\n",
      "91\n",
      "93\n",
      "97\n",
      "99\n"
     ]
    }
   ],
   "source": [
    "#Q. Print all the number which is not divisible by 2 and 5\n",
    "for i in range(0,100):\n",
    "    if (i%2 and i%5)!=0:\n",
    "        print(i)\n",
    "    "
   ]
  },
  {
   "cell_type": "code",
   "execution_count": null,
   "id": "f4a687f1",
   "metadata": {},
   "outputs": [],
   "source": []
  }
 ],
 "metadata": {
  "kernelspec": {
   "display_name": "Python 3 (ipykernel)",
   "language": "python",
   "name": "python3"
  },
  "language_info": {
   "codemirror_mode": {
    "name": "ipython",
    "version": 3
   },
   "file_extension": ".py",
   "mimetype": "text/x-python",
   "name": "python",
   "nbconvert_exporter": "python",
   "pygments_lexer": "ipython3",
   "version": "3.9.12"
  }
 },
 "nbformat": 4,
 "nbformat_minor": 5
}
