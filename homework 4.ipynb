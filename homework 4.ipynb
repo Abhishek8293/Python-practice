{
 "cells": [
  {
   "cell_type": "code",
   "execution_count": 8,
   "id": "f1dadde4",
   "metadata": {},
   "outputs": [
    {
     "name": "stdout",
     "output_type": "stream",
     "text": [
      "Hindi = 102\n",
      "English = 10\n",
      "Science = 106\n",
      "Social studies = 108\n",
      "Mathematics = 109\n",
      "error\n"
     ]
    }
   ],
   "source": [
    "#Q.1 calculate percentage \n",
    "\n",
    "hindi = float(input('Hindi = '))\n",
    "english = float(input('English = '))\n",
    "science = float(input('Science = '))\n",
    "social_studies = float(input('Social studies = '))\n",
    "maths = float(input('Mathematics = '))\n",
    "total_obtained =hindi+english+science+social_studies+maths \n",
    "percentage = (total_obtained/500)*100\n",
    "\n",
    "if hindi and english and science and social_studies and maths<=100:\n",
    "    if percentage<=33:\n",
    "        print('FAIL')\n",
    "    elif 33<percentage<=60:\n",
    "        print('2nd Division',percentage,'%')\n",
    "    elif 60<percentage<=75:\n",
    "        print('1st Division',percentage,'%')\n",
    "    else:\n",
    "        print('Honours',percentage,'%')\n",
    "else:\n",
    "    print('Error')"
   ]
  },
  {
   "cell_type": "code",
   "execution_count": 12,
   "id": "2984b4a0",
   "metadata": {},
   "outputs": [
    {
     "name": "stdout",
     "output_type": "stream",
     "text": [
      "Enter your age 26\n",
      "Enter 0 for married or 1 for unmarried\n",
      "0\n",
      "not needed to ensure\n"
     ]
    }
   ],
   "source": [
    "#Q.2 inurance company will ensure any person\n",
    "age = int(input('Enter your age '))\n",
    "print('Enter 0 for married or 1 for unmarried')\n",
    "m = int(input( ))\n",
    "\n",
    "if age<30:\n",
    "    if m ==1:\n",
    "        print('Ensure')\n",
    "    else:\n",
    "        print('not needed to ensure')\n",
    "        "
   ]
  },
  {
   "cell_type": "code",
   "execution_count": 15,
   "id": "af7e4067",
   "metadata": {},
   "outputs": [
    {
     "name": "stdout",
     "output_type": "stream",
     "text": [
      " shirt A(0), shirt B(1), shirt C(2)\n",
      "jeans A(3), jeans B(4), jeans C(5)\n",
      "accesories A(6),  accesories B(7), accesories C(8)\n",
      "   \n"
     ]
    }
   ],
   "source": [
    "#Q.3 shopping problem\n",
    "\n",
    "print(''' shirt A(0), shirt B(1), shirt C(2)\n",
    "jeans A(3), jeans B(4), jeans C(5)\n",
    "accesories A(6),  accesories B(7), accesories C(8)\n",
    "   ''')"
   ]
  },
  {
   "cell_type": "code",
   "execution_count": null,
   "id": "6d4b356b",
   "metadata": {},
   "outputs": [],
   "source": []
  }
 ],
 "metadata": {
  "kernelspec": {
   "display_name": "Python 3 (ipykernel)",
   "language": "python",
   "name": "python3"
  },
  "language_info": {
   "codemirror_mode": {
    "name": "ipython",
    "version": 3
   },
   "file_extension": ".py",
   "mimetype": "text/x-python",
   "name": "python",
   "nbconvert_exporter": "python",
   "pygments_lexer": "ipython3",
   "version": "3.9.12"
  }
 },
 "nbformat": 4,
 "nbformat_minor": 5
}
