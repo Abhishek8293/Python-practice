{
 "cells": [
  {
   "cell_type": "code",
   "execution_count": 28,
   "id": "de1dede7",
   "metadata": {},
   "outputs": [
    {
     "name": "stdout",
     "output_type": "stream",
     "text": [
      "sorted list is  [1, 2, 3, 7, 8]\n"
     ]
    }
   ],
   "source": [
    "#Q.1\n",
    "lst = [3,1,7,2,8]\n",
    "n = len(lst)\n",
    "for i in range(1,n-i+2):\n",
    "    for j in range(0,n-1):\n",
    "        if lst[j]>lst[j+1]:\n",
    "            a = lst[j]\n",
    "            lst[j] = lst[j+1]\n",
    "            lst[j+1]=a\n",
    "print('sorted list is ',lst)"
   ]
  },
  {
   "cell_type": "code",
   "execution_count": 1,
   "id": "20d511f2",
   "metadata": {},
   "outputs": [
    {
     "name": "stdout",
     "output_type": "stream",
     "text": [
      "Distinct value list is  [1, 6, 9, 3, 7, 2, 11, 12]\n"
     ]
    }
   ],
   "source": [
    "#Q.2\n",
    "lst = [1,6,9,3,7,2,6,9,2,2,2,11,12,11]\n",
    "lst1 =[]\n",
    "for i in lst:\n",
    "    if i not in lst1:\n",
    "        lst1.append(i)\n",
    "print('Distinct value list is ',lst1)\n"
   ]
  },
  {
   "cell_type": "code",
   "execution_count": 2,
   "id": "e7bef5d6",
   "metadata": {},
   "outputs": [
    {
     "name": "stdout",
     "output_type": "stream",
     "text": [
      "even no. [2, 4, 6, 8, 10]\n",
      "odd no [1, 3, 5, 7, 9]\n"
     ]
    }
   ],
   "source": [
    "#Q.4\n",
    "lst = [1,2,3,4,5,6,7,8,9,10]\n",
    "lst_even = []\n",
    "lst_odd = []\n",
    "for i in lst:\n",
    "    if i%2==0:\n",
    "        lst_even.append(i)\n",
    "    else:\n",
    "        lst_odd.append(i)\n",
    "print('even no.',lst_even)\n",
    "print('odd no',lst_odd)"
   ]
  },
  {
   "cell_type": "code",
   "execution_count": 3,
   "id": "d3a48e89",
   "metadata": {},
   "outputs": [
    {
     "name": "stdout",
     "output_type": "stream",
     "text": [
      "Name whose length is less than 7  ['Hemant', 'Renuka', 'Amisha', 'Princy', 'Sumit']\n"
     ]
    }
   ],
   "source": [
    "#Q.5\n",
    "lst= ['Hemant', 'Renuka','Chandan','Abhishek','Amisha','Princy','Sumit']\n",
    "ls=[]\n",
    "for i in lst:\n",
    "    if len(i)<7:\n",
    "        ls.append(i)\n",
    "print('Name whose length is less than 7 ',ls)    "
   ]
  },
  {
   "cell_type": "code",
   "execution_count": 18,
   "id": "fc6b7874",
   "metadata": {},
   "outputs": [
    {
     "name": "stdout",
     "output_type": "stream",
     "text": [
      "Left shift of list  [2, 3, 6, 7]\n"
     ]
    }
   ],
   "source": [
    "#Q.3\n",
    "#For left shift\n",
    "lst = [7,2,3,6]\n",
    "n = len(lst)\n",
    "a = lst[0]\n",
    "for i in range(1,n):\n",
    "    lst[i-1] = lst[i]\n",
    "lst[n-1] = a\n",
    "print('Left shift of list ',lst)"
   ]
  },
  {
   "cell_type": "code",
   "execution_count": 28,
   "id": "cfd55d97",
   "metadata": {},
   "outputs": [
    {
     "name": "stdout",
     "output_type": "stream",
     "text": [
      "Right shift of list  [6, 7, 2, 3]\n"
     ]
    }
   ],
   "source": [
    "#Q.3\n",
    "#For Right shift\n",
    "lst = [7,2,3,6]\n",
    "n = len(lst)\n",
    "b = lst[n-1]\n",
    "for i in range(n-2,-1,-1):\n",
    "    lst[i+1] = lst[i]\n",
    "lst[0] = b\n",
    "print('Right shift of list ',lst)"
   ]
  },
  {
   "cell_type": "code",
   "execution_count": 53,
   "id": "ffc5fdeb",
   "metadata": {},
   "outputs": [
    {
     "name": "stdout",
     "output_type": "stream",
     "text": [
      "enter the number 866\n",
      "given number 866 is  not a armstrong number\n"
     ]
    }
   ],
   "source": [
    "# Armstrong number 153,370,371,8208,54748\n",
    "n = input('enter the number ')\n",
    "a = len(n)\n",
    "sum = 0\n",
    "for i in n:\n",
    "    i = int(i)\n",
    "    k = i**a\n",
    "    sum = sum+k\n",
    "if sum == int(n):\n",
    "    print('given number',n,'is Armstrong number')\n",
    "else:\n",
    "    print('given number',n,'is  not a armstrong number')"
   ]
  },
  {
   "cell_type": "code",
   "execution_count": 42,
   "id": "605ddab2",
   "metadata": {},
   "outputs": [
    {
     "name": "stdout",
     "output_type": "stream",
     "text": [
      "[1, 2, 3, 4, 5]\n"
     ]
    }
   ],
   "source": [
    "a = [3,2,4,5,1]\n",
    "for i in range(0,len(a)-1):\n",
    "    for j in range(0,len(a)-i-1):\n",
    "        if a[j]>a[j+1]:\n",
    "            temp = a[j]\n",
    "            a[j]= a[j+1]\n",
    "            a[j+1]=temp\n",
    "print(a)"
   ]
  },
  {
   "cell_type": "code",
   "execution_count": 52,
   "id": "b1878e66",
   "metadata": {},
   "outputs": [
    {
     "name": "stdout",
     "output_type": "stream",
     "text": [
      "[2, 3, 4, 5, 1]\n"
     ]
    }
   ],
   "source": [
    "a = [3,2,4,5,1]\n",
    "max =0\n",
    "for i in range(0,len(a)):\n",
    "    for j in range(0,len(a)-i):\n",
    "        if (a[j]>a[max]):\n",
    "            max = j\n",
    "    temp = a[max]\n",
    "    a[max]=a[len(a)-1-i]\n",
    "    a[len(a)-1-i]=temp\n",
    "print(a)"
   ]
  },
  {
   "cell_type": "code",
   "execution_count": null,
   "id": "17fcaa93",
   "metadata": {},
   "outputs": [],
   "source": []
  },
  {
   "cell_type": "code",
   "execution_count": null,
   "id": "5441a4a2",
   "metadata": {},
   "outputs": [],
   "source": []
  }
 ],
 "metadata": {
  "kernelspec": {
   "display_name": "Python 3 (ipykernel)",
   "language": "python",
   "name": "python3"
  },
  "language_info": {
   "codemirror_mode": {
    "name": "ipython",
    "version": 3
   },
   "file_extension": ".py",
   "mimetype": "text/x-python",
   "name": "python",
   "nbconvert_exporter": "python",
   "pygments_lexer": "ipython3",
   "version": "3.9.12"
  }
 },
 "nbformat": 4,
 "nbformat_minor": 5
}
