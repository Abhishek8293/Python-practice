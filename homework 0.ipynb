{
 "cells": [
  {
   "cell_type": "code",
   "execution_count": 3,
   "id": "53a7370b",
   "metadata": {},
   "outputs": [
    {
     "name": "stdout",
     "output_type": "stream",
     "text": [
      "enter the number of people 5\n",
      "enter the total weight 400\n",
      "lift is not overload\n"
     ]
    }
   ],
   "source": [
    "p = int(input('enter the number of people '))\n",
    "w = int(input('enter the total weight '))\n",
    "if (p<=6 and w<=500):\n",
    "    print('lift is not overload')\n",
    "else:\n",
    "    print('lift is overload')"
   ]
  },
  {
   "cell_type": "code",
   "execution_count": 11,
   "id": "d916871e",
   "metadata": {},
   "outputs": [
    {
     "name": "stdout",
     "output_type": "stream",
     "text": [
      "enter buying price 500\n",
      "enter selling price 200\n",
      "you are in losssssss\n"
     ]
    }
   ],
   "source": [
    "x = int(input('enter buying price '))\n",
    "y = int(input('enter selling price '))\n",
    "if y>x:\n",
    "    print('you are in profit')\n",
    "elif x == y:\n",
    "    print('you are neither in  profit nor in loss')\n",
    "else:\n",
    "    print('you are in losssssss')"
   ]
  },
  {
   "cell_type": "code",
   "execution_count": 14,
   "id": "37b4022b",
   "metadata": {},
   "outputs": [
    {
     "name": "stdout",
     "output_type": "stream",
     "text": [
      "A = 4\n",
      "B = 96\n",
      "C = 85\n",
      "D = 76\n",
      "E = 101\n",
      "percentage cant be calculated\n"
     ]
    }
   ],
   "source": [
    "A = int(input('A = ' ))\n",
    "B = int(input('B = ' ))\n",
    "C = int(input('C = ' ))\n",
    "D = int(input('D = ' ))\n",
    "E = int(input('E = ' ))\n",
    "Z = ((A+B+C+D+E)/500)*100\n",
    "if (A<=100 and B<=100 and C<=100 and D<=100 and E<=100):\n",
    "    print('percentge is',Z)\n",
    "else:\n",
    "    print('percentage cant be calculated')"
   ]
  },
  {
   "cell_type": "code",
   "execution_count": 15,
   "id": "1fa0f747",
   "metadata": {},
   "outputs": [
    {
     "name": "stdout",
     "output_type": "stream",
     "text": [
      "a = 40\n",
      "b = 45\n",
      "c = 10\n",
      "b is greatest\n"
     ]
    }
   ],
   "source": [
    "a = int(input('a = '))\n",
    "b = int(input('b = '))\n",
    "c = int(input('c = '))\n",
    "if (a>b and a>c):\n",
    "    print('a is greatest')\n",
    "elif (b>a and b>c):\n",
    "    print('b is greatest')\n",
    "else:\n",
    "    print('c is greatest')"
   ]
  },
  {
   "cell_type": "code",
   "execution_count": 7,
   "id": "4798c16a",
   "metadata": {},
   "outputs": [
    {
     "name": "stdout",
     "output_type": "stream",
     "text": [
      "enter the value of p 8000\n",
      "enter the value of r 10\n",
      "enter the value of t 5\n",
      "4000.0\n"
     ]
    }
   ],
   "source": [
    "p = int(input('enter the value of p '))\n",
    "r = int(input('enter the value of r '))\n",
    "t = int(input('enter the value of t '))\n",
    "SI = (p*r*t)/100\n",
    "print(SI)"
   ]
  },
  {
   "cell_type": "code",
   "execution_count": 1,
   "id": "4d696d72",
   "metadata": {},
   "outputs": [
    {
     "name": "stdout",
     "output_type": "stream",
     "text": [
      "40.0\n"
     ]
    }
   ],
   "source": [
    "# find expected time\n",
    "d = 2000\n",
    "s = 50\n",
    "time = d/s\n",
    "print(time)"
   ]
  },
  {
   "cell_type": "code",
   "execution_count": 2,
   "id": "87928b45",
   "metadata": {},
   "outputs": [
    {
     "name": "stdout",
     "output_type": "stream",
     "text": [
      "32.0\n"
     ]
    }
   ],
   "source": [
    "# gravitional force\n",
    "m1 = 441\n",
    "m2 = 400\n",
    "r = 210\n",
    "G = 8\n",
    "F = G*(m1*m2)/(r*r)\n",
    "print(F)"
   ]
  },
  {
   "cell_type": "code",
   "execution_count": null,
   "id": "78e048f2",
   "metadata": {},
   "outputs": [],
   "source": []
  }
 ],
 "metadata": {
  "kernelspec": {
   "display_name": "Python 3 (ipykernel)",
   "language": "python",
   "name": "python3"
  },
  "language_info": {
   "codemirror_mode": {
    "name": "ipython",
    "version": 3
   },
   "file_extension": ".py",
   "mimetype": "text/x-python",
   "name": "python",
   "nbconvert_exporter": "python",
   "pygments_lexer": "ipython3",
   "version": "3.9.12"
  }
 },
 "nbformat": 4,
 "nbformat_minor": 5
}
