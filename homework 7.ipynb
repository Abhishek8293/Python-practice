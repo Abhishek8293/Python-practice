{
 "cells": [
  {
   "cell_type": "code",
   "execution_count": 1,
   "id": "b69f27c0",
   "metadata": {},
   "outputs": [
    {
     "name": "stdout",
     "output_type": "stream",
     "text": [
      "enter the number 4\n",
      "      * \n",
      "    * * \n",
      "  * * * \n",
      "* * * * \n"
     ]
    }
   ],
   "source": [
    "#Q.1\n",
    "n = int(input('enter the number '))\n",
    "for i in range(1,n+1):\n",
    "    for j in range(1,(n+1)-i):\n",
    "        print(' ', end = ' ')\n",
    "    for j in range(1,i+1):\n",
    "        print('*',end = ' ')\n",
    "    print()"
   ]
  },
  {
   "cell_type": "code",
   "execution_count": 19,
   "id": "d45e8a26",
   "metadata": {},
   "outputs": [
    {
     "name": "stdout",
     "output_type": "stream",
     "text": [
      "enter the number 4\n",
      "* \n",
      "* * \n",
      "* * * \n",
      "* * * * \n",
      "* * * \n",
      "* * \n",
      "* \n"
     ]
    }
   ],
   "source": [
    "# Q.2 \n",
    "n = int(input('enter the number '))\n",
    "for i in range(1,n+1):\n",
    "    for j in range(1,i+1):\n",
    "        print('*', end = ' ')\n",
    "    print()    \n",
    "for i in range(1,n):\n",
    "    for j in range(1,(n-i)+1):\n",
    "        print('*', end = ' ')\n",
    "    print()"
   ]
  },
  {
   "cell_type": "code",
   "execution_count": 2,
   "id": "0ecfa059",
   "metadata": {},
   "outputs": [
    {
     "name": "stdout",
     "output_type": "stream",
     "text": [
      "enter the number 5\n",
      "        *   \n",
      "      *   *   \n",
      "    *   *   *   \n",
      "  *   *   *   *   \n",
      "*   *   *   *   *   \n"
     ]
    }
   ],
   "source": [
    "#Q.3\n",
    "n = int(input('enter the number '))\n",
    "for i in range(1,n+1):\n",
    "    for j in range(1,(n+1)-i):\n",
    "        print(\" \", end = ' ')\n",
    "    for j in range(1,i+1):\n",
    "        print('*  ', end=' ')\n",
    "    print()"
   ]
  },
  {
   "cell_type": "code",
   "execution_count": 6,
   "id": "ab5ce55c",
   "metadata": {},
   "outputs": [
    {
     "name": "stdout",
     "output_type": "stream",
     "text": [
      "enter the number 4\n",
      "      1   \n",
      "    2   3   \n",
      "  4   5   6   \n",
      "7   8   9   10   \n"
     ]
    }
   ],
   "source": [
    "#Q.4\n",
    "n = int(input('enter the number '))\n",
    "k = 1\n",
    "for i in range(1,n+1):\n",
    "    for j in range(1,(n-i)+1):\n",
    "        print(' ', end = ' ')\n",
    "    for j in range(1,i+1):\n",
    "        print(k,' ', end = ' ')\n",
    "        k +=1\n",
    "    print()\n",
    "        "
   ]
  },
  {
   "cell_type": "code",
   "execution_count": 7,
   "id": "13262765",
   "metadata": {},
   "outputs": [
    {
     "name": "stdout",
     "output_type": "stream",
     "text": [
      "Enter the number 121\n",
      "121 is a palindrome number\n"
     ]
    }
   ],
   "source": [
    "#Q.5 find the palindrome number \n",
    "n = input('Enter the number ')\n",
    "x =n[::-1]\n",
    "if x==n:\n",
    "    print(n,'is a palindrome number')\n",
    "else:\n",
    "    print(n,'is not a palindrome number')\n"
   ]
  },
  {
   "cell_type": "code",
   "execution_count": 21,
   "id": "d0ac7c94",
   "metadata": {},
   "outputs": [
    {
     "name": "stdout",
     "output_type": "stream",
     "text": [
      "Enter the number 98347586\n",
      "output =  68574389\n"
     ]
    }
   ],
   "source": [
    "# Q.6 To reverse any number \n",
    "n = input('Enter the number ')\n",
    "s = n[::-1]\n",
    "print('output = ',s)\n"
   ]
  },
  {
   "cell_type": "code",
   "execution_count": 21,
   "id": "cb2d9d4e",
   "metadata": {},
   "outputs": [
    {
     "name": "stdout",
     "output_type": "stream",
     "text": [
      "Enter the given number of 8676\n",
      "8\n",
      "6\n",
      "7\n",
      "6\n"
     ]
    }
   ],
   "source": [
    "#Q.7 print Digits of any given number\n",
    "n = input('Enter the given number of ')\n",
    "for i in n:\n",
    "    print(i)"
   ]
  },
  {
   "cell_type": "code",
   "execution_count": 2,
   "id": "568dce94",
   "metadata": {},
   "outputs": [
    {
     "name": "stdout",
     "output_type": "stream",
     "text": [
      "enter the first number 5\n",
      "entert the second number 9\n",
      "grater number is 9\n",
      "5\n"
     ]
    }
   ],
   "source": [
    "a = int(input('enter the first number '))\n",
    "b = int(input('entert the second number '))\n",
    "if a<b:\n",
    "    print('grater number is',b)\n",
    "print(a)"
   ]
  },
  {
   "cell_type": "code",
   "execution_count": 3,
   "id": "aebac237",
   "metadata": {},
   "outputs": [
    {
     "data": {
      "text/plain": [
       "5"
      ]
     },
     "execution_count": 3,
     "metadata": {},
     "output_type": "execute_result"
    }
   ],
   "source": [
    "lst = [1,2,3,4,5]\n",
    "len(lst)\n"
   ]
  },
  {
   "cell_type": "code",
   "execution_count": 4,
   "id": "85ab5afc",
   "metadata": {},
   "outputs": [
    {
     "data": {
      "text/plain": [
       "1"
      ]
     },
     "execution_count": 4,
     "metadata": {},
     "output_type": "execute_result"
    }
   ],
   "source": [
    "min(lst)"
   ]
  },
  {
   "cell_type": "code",
   "execution_count": 5,
   "id": "489a82d2",
   "metadata": {},
   "outputs": [
    {
     "data": {
      "text/plain": [
       "5"
      ]
     },
     "execution_count": 5,
     "metadata": {},
     "output_type": "execute_result"
    }
   ],
   "source": [
    "max(lst)"
   ]
  },
  {
   "cell_type": "code",
   "execution_count": 6,
   "id": "b119ded0",
   "metadata": {},
   "outputs": [
    {
     "data": {
      "text/plain": [
       "15"
      ]
     },
     "execution_count": 6,
     "metadata": {},
     "output_type": "execute_result"
    }
   ],
   "source": [
    "sum(lst)"
   ]
  },
  {
   "cell_type": "code",
   "execution_count": 10,
   "id": "90d2a1ad",
   "metadata": {},
   "outputs": [
    {
     "data": {
      "text/plain": [
       "False"
      ]
     },
     "execution_count": 10,
     "metadata": {},
     "output_type": "execute_result"
    }
   ],
   "source": [
    "lst = [0,0,0,'']\n",
    "any(lst) # to find true value"
   ]
  },
  {
   "cell_type": "code",
   "execution_count": 14,
   "id": "0c13b4a3",
   "metadata": {},
   "outputs": [
    {
     "data": {
      "text/plain": [
       "False"
      ]
     },
     "execution_count": 14,
     "metadata": {},
     "output_type": "execute_result"
    }
   ],
   "source": [
    "lst = [1,0,7,'a',3.678]\n",
    "any(lst)\n",
    "all(lst)"
   ]
  },
  {
   "cell_type": "code",
   "execution_count": 13,
   "id": "ae70bd5d",
   "metadata": {},
   "outputs": [
    {
     "data": {
      "text/plain": [
       "True"
      ]
     },
     "execution_count": 13,
     "metadata": {},
     "output_type": "execute_result"
    }
   ],
   "source": [
    "all(lst)"
   ]
  },
  {
   "cell_type": "code",
   "execution_count": 27,
   "id": "c1341d05",
   "metadata": {},
   "outputs": [
    {
     "data": {
      "text/plain": [
       "list"
      ]
     },
     "execution_count": 27,
     "metadata": {},
     "output_type": "execute_result"
    }
   ],
   "source": [
    "lst = [1,0,7,3.678]\n",
    "a = sorted(lst)\n",
    "\n"
   ]
  },
  {
   "cell_type": "code",
   "execution_count": 37,
   "id": "a4032a87",
   "metadata": {},
   "outputs": [
    {
     "data": {
      "text/plain": [
       "2084968771648"
      ]
     },
     "execution_count": 37,
     "metadata": {},
     "output_type": "execute_result"
    }
   ],
   "source": [
    "tpl = (9,4,2,7)\n",
    "id(tpl)\n",
    "\n"
   ]
  },
  {
   "cell_type": "code",
   "execution_count": 38,
   "id": "27448533",
   "metadata": {},
   "outputs": [
    {
     "ename": "TypeError",
     "evalue": "'tuple' object doesn't support item deletion",
     "output_type": "error",
     "traceback": [
      "\u001b[1;31m---------------------------------------------------------------------------\u001b[0m",
      "\u001b[1;31mTypeError\u001b[0m                                 Traceback (most recent call last)",
      "Input \u001b[1;32mIn [38]\u001b[0m, in \u001b[0;36m<cell line: 1>\u001b[1;34m()\u001b[0m\n\u001b[1;32m----> 1\u001b[0m \u001b[38;5;28;01mdel\u001b[39;00m(tpl[\u001b[38;5;241m0\u001b[39m])\n",
      "\u001b[1;31mTypeError\u001b[0m: 'tuple' object doesn't support item deletion"
     ]
    }
   ],
   "source": [
    "tpl[0]"
   ]
  },
  {
   "cell_type": "code",
   "execution_count": 35,
   "id": "75e5dffa",
   "metadata": {},
   "outputs": [
    {
     "ename": "NameError",
     "evalue": "name 'tpl' is not defined",
     "output_type": "error",
     "traceback": [
      "\u001b[1;31m---------------------------------------------------------------------------\u001b[0m",
      "\u001b[1;31mNameError\u001b[0m                                 Traceback (most recent call last)",
      "Input \u001b[1;32mIn [35]\u001b[0m, in \u001b[0;36m<cell line: 1>\u001b[1;34m()\u001b[0m\n\u001b[1;32m----> 1\u001b[0m \u001b[38;5;28mid\u001b[39m(\u001b[43mtpl\u001b[49m)\n",
      "\u001b[1;31mNameError\u001b[0m: name 'tpl' is not defined"
     ]
    }
   ],
   "source": [
    "id(tpl)"
   ]
  },
  {
   "cell_type": "code",
   "execution_count": 52,
   "id": "f1c8b7a0",
   "metadata": {},
   "outputs": [
    {
     "ename": "AttributeError",
     "evalue": "'tuple' object has no attribute 'append'",
     "output_type": "error",
     "traceback": [
      "\u001b[1;31m---------------------------------------------------------------------------\u001b[0m",
      "\u001b[1;31mAttributeError\u001b[0m                            Traceback (most recent call last)",
      "Input \u001b[1;32mIn [52]\u001b[0m, in \u001b[0;36m<cell line: 2>\u001b[1;34m()\u001b[0m\n\u001b[0;32m      1\u001b[0m tpl \u001b[38;5;241m=\u001b[39m (\u001b[38;5;241m9\u001b[39m,\u001b[38;5;241m4\u001b[39m,\u001b[38;5;241m2\u001b[39m,\u001b[38;5;241m7\u001b[39m)\n\u001b[1;32m----> 2\u001b[0m \u001b[43mtpl\u001b[49m\u001b[38;5;241;43m.\u001b[39;49m\u001b[43mappend\u001b[49m(\u001b[38;5;241m67\u001b[39m)\n\u001b[0;32m      3\u001b[0m tpl\n",
      "\u001b[1;31mAttributeError\u001b[0m: 'tuple' object has no attribute 'append'"
     ]
    }
   ],
   "source": [
    "tpl = (9,4,2,7)\n",
    "tpl.append(67)\n",
    "tpl"
   ]
  },
  {
   "cell_type": "code",
   "execution_count": 47,
   "id": "05afaa71",
   "metadata": {},
   "outputs": [
    {
     "name": "stdout",
     "output_type": "stream",
     "text": [
      "3.678\n",
      "7\n",
      "0\n",
      "1\n"
     ]
    }
   ],
   "source": [
    "a = reversed(lst)\n",
    "for i in a:\n",
    "    print(i)"
   ]
  },
  {
   "cell_type": "code",
   "execution_count": 48,
   "id": "50696bc7",
   "metadata": {},
   "outputs": [
    {
     "name": "stdout",
     "output_type": "stream",
     "text": [
      "7\n",
      "2\n",
      "4\n",
      "9\n"
     ]
    }
   ],
   "source": [
    "b = reversed(tpl)\n",
    "for i in b:\n",
    "    print(i)"
   ]
  },
  {
   "cell_type": "code",
   "execution_count": 61,
   "id": "60ba44d1",
   "metadata": {},
   "outputs": [
    {
     "ename": "AttributeError",
     "evalue": "'tuple' object has no attribute 'remove'",
     "output_type": "error",
     "traceback": [
      "\u001b[1;31m---------------------------------------------------------------------------\u001b[0m",
      "\u001b[1;31mAttributeError\u001b[0m                            Traceback (most recent call last)",
      "Input \u001b[1;32mIn [61]\u001b[0m, in \u001b[0;36m<cell line: 2>\u001b[1;34m()\u001b[0m\n\u001b[0;32m      1\u001b[0m tpl \u001b[38;5;241m=\u001b[39m (\u001b[38;5;241m9\u001b[39m,\u001b[38;5;241m4\u001b[39m,\u001b[38;5;241m2\u001b[39m,\u001b[38;5;241m7\u001b[39m)\n\u001b[1;32m----> 2\u001b[0m \u001b[38;5;28mprint\u001b[39m(\u001b[43mtpl\u001b[49m\u001b[38;5;241;43m.\u001b[39;49m\u001b[43mremove\u001b[49m(\u001b[38;5;241m7\u001b[39m))\n\u001b[0;32m      3\u001b[0m tpl\n",
      "\u001b[1;31mAttributeError\u001b[0m: 'tuple' object has no attribute 'remove'"
     ]
    }
   ],
   "source": [
    "tpl = (9,4,2,7)\n",
    "print(tpl.remove(7))\n",
    "tpl"
   ]
  },
  {
   "cell_type": "code",
   "execution_count": 93,
   "id": "e25531e4",
   "metadata": {},
   "outputs": [
    {
     "ename": "AttributeError",
     "evalue": "'tuple' object has no attribute 'reverse'",
     "output_type": "error",
     "traceback": [
      "\u001b[1;31m---------------------------------------------------------------------------\u001b[0m",
      "\u001b[1;31mAttributeError\u001b[0m                            Traceback (most recent call last)",
      "Input \u001b[1;32mIn [93]\u001b[0m, in \u001b[0;36m<cell line: 6>\u001b[1;34m()\u001b[0m\n\u001b[0;32m      1\u001b[0m tpl \u001b[38;5;241m=\u001b[39m (\u001b[38;5;241m1\u001b[39m,\u001b[38;5;241m2\u001b[39m,\u001b[38;5;241m3\u001b[39m,\u001b[38;5;241m4\u001b[39m,\u001b[38;5;241m5\u001b[39m,\u001b[38;5;241m1\u001b[39m,\u001b[38;5;241m1\u001b[39m,\u001b[38;5;241m7\u001b[39m,\u001b[38;5;241m8\u001b[39m,\u001b[38;5;241m0\u001b[39m)\n\u001b[0;32m      2\u001b[0m \u001b[38;5;66;03m##a=len(tpl)\u001b[39;00m\n\u001b[0;32m      3\u001b[0m \u001b[38;5;66;03m#print(tpl[a-1])\u001b[39;00m\n\u001b[0;32m      4\u001b[0m \u001b[38;5;66;03m#tpl.count(1)\u001b[39;00m\n\u001b[0;32m      5\u001b[0m \u001b[38;5;66;03m#tpl.index(8)\u001b[39;00m\n\u001b[1;32m----> 6\u001b[0m b \u001b[38;5;241m=\u001b[39m \u001b[43mtpl\u001b[49m\u001b[38;5;241;43m.\u001b[39;49m\u001b[43mreverse\u001b[49m()\n\u001b[0;32m      7\u001b[0m \u001b[38;5;28mprint\u001b[39m(tpl)\n",
      "\u001b[1;31mAttributeError\u001b[0m: 'tuple' object has no attribute 'reverse'"
     ]
    }
   ],
   "source": [
    "tpl = (1,2,3,4,5,1,1,7,8,0)\n",
    "##a=len(tpl)\n",
    "#print(tpl[a-1])\n",
    "#tpl.count(1)\n",
    "#tpl.index(8)\n",
    "b = tpl.reverse()\n",
    "print(tpl)"
   ]
  },
  {
   "cell_type": "code",
   "execution_count": 92,
   "id": "e96a8369",
   "metadata": {
    "scrolled": true
   },
   "outputs": [
    {
     "name": "stdout",
     "output_type": "stream",
     "text": [
      "[45, 11, 11, 4, 4, 4, 4, 9, 4]\n"
     ]
    }
   ],
   "source": [
    "lst = [4,9,4,4,4,4,11,11,45]\n",
    "#print(lst.append(657))\n",
    "#print(lst.remove(11))\n",
    "#lst.insert(3,13)\n",
    "#lst.count(4)\n",
    "a = lst.reverse()\n",
    "type(a)\n",
    "print(lst)\n",
    "\n"
   ]
  },
  {
   "cell_type": "code",
   "execution_count": 86,
   "id": "8ceb6d38",
   "metadata": {},
   "outputs": [
    {
     "name": "stdout",
     "output_type": "stream",
     "text": [
      "2084968583952\n",
      "2084968583952\n"
     ]
    }
   ],
   "source": [
    "tpl = (4,9,[1,2],11,'a')\n",
    "print(id(tpl))\n",
    "a = tpl[2]\n",
    "#a.append(3)\n",
    "#print(id(tpl))\n",
    "\n",
    "\n"
   ]
  },
  {
   "cell_type": "code",
   "execution_count": 94,
   "id": "25719ca1",
   "metadata": {},
   "outputs": [
    {
     "data": {
      "text/plain": [
       "2084969799552"
      ]
     },
     "execution_count": 94,
     "metadata": {},
     "output_type": "execute_result"
    }
   ],
   "source": [
    "lst = [2,4,5]\n",
    "id(lst)"
   ]
  },
  {
   "cell_type": "code",
   "execution_count": 98,
   "id": "0974dbac",
   "metadata": {},
   "outputs": [
    {
     "data": {
      "text/plain": [
       "140735390063832"
      ]
     },
     "execution_count": 98,
     "metadata": {},
     "output_type": "execute_result"
    }
   ],
   "source": [
    "id(lst.append(6))\n"
   ]
  },
  {
   "cell_type": "code",
   "execution_count": 102,
   "id": "53f7e3d3",
   "metadata": {},
   "outputs": [
    {
     "name": "stdout",
     "output_type": "stream",
     "text": [
      "[1, 4, 7]\n"
     ]
    }
   ],
   "source": [
    "a=[1,2,3,4,5,6,7,8,9]\n",
    "print(a[::3])"
   ]
  },
  {
   "cell_type": "markdown",
   "id": "c43fbdf5",
   "metadata": {},
   "source": [
    "#homework to build resume till saturday"
   ]
  },
  {
   "cell_type": "code",
   "execution_count": 6,
   "id": "8aed287e",
   "metadata": {},
   "outputs": [
    {
     "name": "stdout",
     "output_type": "stream",
     "text": [
      "enter the number 5\n",
      "        *   \n",
      "      *   *   \n",
      "    *   *   *   \n",
      "  *   *   *   *   \n",
      "*   *   *   *   *   \n",
      "  *   *   *   *   \n",
      "    *   *   *   \n",
      "      *   *   \n",
      "        *   \n"
     ]
    }
   ],
   "source": [
    "n = int(input('enter the number '))\n",
    "for i in range(1,n+1):\n",
    "    for j in range(1,(n+1)-i):\n",
    "        print(\" \", end = ' ')\n",
    "    for j in range(1,i+1):\n",
    "        print('*  ', end=' ')\n",
    "    print()\n",
    "#n = int(input('enter the number '))\n",
    "for i in range(1,n):\n",
    "    for j in range(1,i+1):\n",
    "        print(\" \", end = ' ')\n",
    "    for j in range(1,n-i+1):\n",
    "        print('*  ', end=' ')\n",
    "    print()"
   ]
  },
  {
   "cell_type": "code",
   "execution_count": 12,
   "id": "f3f05fe4",
   "metadata": {},
   "outputs": [
    {
     "name": "stdout",
     "output_type": "stream",
     "text": [
      "enter the first number 5\n",
      "  *   *   *   *   *   \n",
      "    *   *   *   *   \n",
      "      *   *   *   \n",
      "        *   *   \n",
      "          *   \n",
      "        *   *   \n",
      "      *   *   *   \n",
      "    *   *   *   *   \n",
      "  *   *   *   *   *   \n"
     ]
    }
   ],
   "source": [
    "n = int(input('enter the first number '))\n",
    "for i in range(1,n):\n",
    "    for j in range(1,i+1):\n",
    "        print(' ', end = ' ')\n",
    "    for j in range(1,n-i+2):\n",
    "        print('*  ', end = ' ')\n",
    "    print()\n",
    "for i in range(1,n+1):\n",
    "    for j in range(1,n-i+2):\n",
    "        print(' ', end = ' ')\n",
    "    for j in range(1,i+1):\n",
    "        print('*  ', end = ' ')\n",
    "    print()"
   ]
  },
  {
   "cell_type": "code",
   "execution_count": null,
   "id": "d3dea70d",
   "metadata": {},
   "outputs": [],
   "source": []
  }
 ],
 "metadata": {
  "kernelspec": {
   "display_name": "Python 3 (ipykernel)",
   "language": "python",
   "name": "python3"
  },
  "language_info": {
   "codemirror_mode": {
    "name": "ipython",
    "version": 3
   },
   "file_extension": ".py",
   "mimetype": "text/x-python",
   "name": "python",
   "nbconvert_exporter": "python",
   "pygments_lexer": "ipython3",
   "version": "3.9.12"
  }
 },
 "nbformat": 4,
 "nbformat_minor": 5
}
