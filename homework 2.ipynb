{
 "cells": [
  {
   "cell_type": "code",
   "execution_count": 3,
   "id": "4faecc31",
   "metadata": {},
   "outputs": [
    {
     "name": "stdout",
     "output_type": "stream",
     "text": [
      "Requirement already satisfied: python-math in c:\\users\\user\\anaconda3\\lib\\site-packages (0.0.1)\n",
      "Note: you may need to restart the kernel to use updated packages.\n"
     ]
    }
   ],
   "source": [
    "pip install python-math"
   ]
  },
  {
   "cell_type": "code",
   "execution_count": 6,
   "id": "cf2e9214",
   "metadata": {},
   "outputs": [],
   "source": [
    "from math import sqrt"
   ]
  },
  {
   "cell_type": "code",
   "execution_count": 19,
   "id": "0e016a4b",
   "metadata": {},
   "outputs": [
    {
     "name": "stdout",
     "output_type": "stream",
     "text": [
      "length of the c is =  17.69180601295413\n",
      "diagonal length of cuboid is =  22.561028345356956\n"
     ]
    }
   ],
   "source": [
    "# solution no 01\n",
    "x = 12 # x is the length of cuboid\n",
    "y = 13 #y is the width of cuboid\n",
    "z = 14 # z is the height of cuboid\n",
    "c = sqrt((x*x)+(y*y)) #c is the length of base\n",
    "print('length of the c is = ',c)\n",
    "b = (z*z)+(c*c)\n",
    "diagonal_length = sqrt(b)\n",
    "print('diagonal length of cuboid is = ',diagonal_length)"
   ]
  },
  {
   "cell_type": "code",
   "execution_count": 2,
   "id": "5d4631e7",
   "metadata": {},
   "outputs": [
    {
     "name": "stdout",
     "output_type": "stream",
     "text": [
      "72450.0\n"
     ]
    }
   ],
   "source": [
    "# solution no 02\n",
    "p = 500000\n",
    "r = 7\n",
    "t = 2\n",
    "\n",
    "\n",
    "formula = p*(1+(r/100))**(t)\n",
    "compound_interest = formula-p\n",
    "print(compound_interest)\n"
   ]
  },
  {
   "cell_type": "code",
   "execution_count": 18,
   "id": "f1248b63",
   "metadata": {},
   "outputs": [
    {
     "name": "stdout",
     "output_type": "stream",
     "text": [
      "1869.6774193548388\n"
     ]
    }
   ],
   "source": [
    "#solution no 03\n",
    "v = 15\n",
    "t = 21\n",
    "w = 46\n",
    "cost = (v*t*w)/7.75\n",
    "print(cost)"
   ]
  },
  {
   "cell_type": "code",
   "execution_count": 3,
   "id": "cd42d899",
   "metadata": {},
   "outputs": [
    {
     "data": {
      "text/plain": [
       "int"
      ]
     },
     "execution_count": 3,
     "metadata": {},
     "output_type": "execute_result"
    }
   ],
   "source": [
    "a = 5\n",
    "type(a)"
   ]
  },
  {
   "cell_type": "code",
   "execution_count": null,
   "id": "b96852fb",
   "metadata": {},
   "outputs": [],
   "source": []
  }
 ],
 "metadata": {
  "kernelspec": {
   "display_name": "Python 3 (ipykernel)",
   "language": "python",
   "name": "python3"
  },
  "language_info": {
   "codemirror_mode": {
    "name": "ipython",
    "version": 3
   },
   "file_extension": ".py",
   "mimetype": "text/x-python",
   "name": "python",
   "nbconvert_exporter": "python",
   "pygments_lexer": "ipython3",
   "version": "3.9.12"
  }
 },
 "nbformat": 4,
 "nbformat_minor": 5
}
