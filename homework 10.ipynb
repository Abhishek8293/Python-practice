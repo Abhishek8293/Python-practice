{
 "cells": [
  {
   "cell_type": "markdown",
   "id": "ee433dfb",
   "metadata": {},
   "source": [
    "# Functions"
   ]
  },
  {
   "cell_type": "code",
   "execution_count": 16,
   "id": "03aa3702",
   "metadata": {},
   "outputs": [
    {
     "name": "stdout",
     "output_type": "stream",
     "text": [
      "7\n",
      "True\n"
     ]
    }
   ],
   "source": [
    "def is_prime(n):\n",
    "    x = True\n",
    "    for v in range(2,n):   \n",
    "        if n%v==0:\n",
    "            x = False\n",
    "            break\n",
    "    return x\n",
    "a = int(input())\n",
    "print(is_prime(a))\n",
    "            "
   ]
  },
  {
   "cell_type": "code",
   "execution_count": 1,
   "id": "02a9861f",
   "metadata": {},
   "outputs": [
    {
     "name": "stdout",
     "output_type": "stream",
     "text": [
      "2\n",
      "56\n",
      "2\n",
      "3\n",
      "5\n",
      "7\n",
      "11\n",
      "13\n",
      "17\n",
      "19\n",
      "23\n",
      "29\n",
      "31\n",
      "37\n",
      "41\n",
      "43\n",
      "47\n",
      "53\n"
     ]
    }
   ],
   "source": [
    "def is_prime(n):\n",
    "    x = True\n",
    "    for v in range(2,n):   \n",
    "        if n%v==0:\n",
    "            x = False\n",
    "            break\n",
    "    return x\n",
    "p = int(input())\n",
    "q = int(input())\n",
    "\n",
    "def fun(j,k):\n",
    "    for i in range(j,k+1):\n",
    "        if is_prime(i)==True:\n",
    "            print(i)\n",
    "fun(p,q)"
   ]
  },
  {
   "cell_type": "code",
   "execution_count": 2,
   "id": "3363baad",
   "metadata": {},
   "outputs": [
    {
     "name": "stdout",
     "output_type": "stream",
     "text": [
      "bad\n"
     ]
    }
   ],
   "source": [
    "def function(var):\n",
    "    if var%3==0:\n",
    "        return 'goodles'\n",
    "    elif var %3==1:\n",
    "        return 'bad'\n",
    "    else:\n",
    "        return 'neutral'\n",
    "print(function(7))"
   ]
  },
  {
   "cell_type": "code",
   "execution_count": 15,
   "id": "5abd9390",
   "metadata": {},
   "outputs": [
    {
     "name": "stdout",
     "output_type": "stream",
     "text": [
      "Enter length of list5\n",
      "enter the number 3\n",
      "enter the number -2\n",
      "enter the number -7\n",
      "enter the number 1\n",
      "enter the number 0\n",
      "[3, 0, 0, 1, 0]\n"
     ]
    }
   ],
   "source": [
    "def lst_1(x):\n",
    "    lst = []\n",
    "    for i in range(x):\n",
    "        a = int(input('enter the number '))\n",
    "        lst.append(a)\n",
    "    return lst\n",
    "\n",
    "    \n",
    "def sanitizer(lstx):\n",
    "    for j in range(0,len(lstx)):\n",
    "        if lstx[j]<0:\n",
    "            lstx[j]=0\n",
    "    return lstx\n",
    "    \n",
    "n = int(input('Enter length of list'))\n",
    "print(sanitizer(lst_1(n)))"
   ]
  },
  {
   "cell_type": "code",
   "execution_count": 1,
   "id": "54aa9a3a",
   "metadata": {},
   "outputs": [
    {
     "name": "stdout",
     "output_type": "stream",
     "text": [
      "enter the nth number 4\n",
      "4 th term is 2\n"
     ]
    }
   ],
   "source": [
    "def fibbonaci(x):\n",
    "    num1 = 0\n",
    "    num2 = 1\n",
    "    lst = []\n",
    "    for i in range(1,x+1):\n",
    "            lst.append(num1)\n",
    "            result = num1+num2\n",
    "            num1 = num2\n",
    "            num2 = result\n",
    "    return lst[x-1]\n",
    "\n",
    "n = int(input('enter the nth number '))\n",
    "print(n,'th term is',fibbonaci(n))"
   ]
  },
  {
   "cell_type": "code",
   "execution_count": 16,
   "id": "0622b98b",
   "metadata": {},
   "outputs": [
    {
     "data": {
      "text/plain": [
       "6"
      ]
     },
     "execution_count": 16,
     "metadata": {},
     "output_type": "execute_result"
    }
   ],
   "source": [
    "def fun(p,q,r):\n",
    "    return p+q+r\n",
    "fun(1,2,3)"
   ]
  },
  {
   "cell_type": "code",
   "execution_count": 18,
   "id": "02a724af",
   "metadata": {},
   "outputs": [
    {
     "data": {
      "text/plain": [
       "15"
      ]
     },
     "execution_count": 18,
     "metadata": {},
     "output_type": "execute_result"
    }
   ],
   "source": [
    "def fun(p,q,r):\n",
    "    return p*q*r\n",
    "fun(p=1,q=5,r=3)"
   ]
  },
  {
   "cell_type": "code",
   "execution_count": 19,
   "id": "72142e1c",
   "metadata": {},
   "outputs": [
    {
     "data": {
      "text/plain": [
       "28"
      ]
     },
     "execution_count": 19,
     "metadata": {},
     "output_type": "execute_result"
    }
   ],
   "source": [
    "def fun(*args):\n",
    "    sum = 0\n",
    "    for i in args:\n",
    "        sum = sum+i\n",
    "    return sum\n",
    "fun(1,2,3,4,5,6,7)"
   ]
  },
  {
   "cell_type": "code",
   "execution_count": 20,
   "id": "bb60f6db",
   "metadata": {},
   "outputs": [
    {
     "name": "stdout",
     "output_type": "stream",
     "text": [
      "x 1\n",
      "y 2\n",
      "z 7\n",
      "p 5\n",
      "q 6\n"
     ]
    }
   ],
   "source": [
    "def fun(**kwargs):\n",
    "    for i,j in kwargs.items():\n",
    "        print(i,j)\n",
    "fun(x=1,y=2,z=7,p=5,q=6)"
   ]
  },
  {
   "cell_type": "code",
   "execution_count": 22,
   "id": "fbec671d",
   "metadata": {},
   "outputs": [
    {
     "name": "stdout",
     "output_type": "stream",
     "text": [
      "ch 2\n",
      "ab 5\n",
      "am 3\n"
     ]
    }
   ],
   "source": [
    "def fun(**kwargs):\n",
    "    for i,j in kwargs.items():\n",
    "        print(i,j)\n",
    "dct = {'ch':2,'ab':5,'am':3}\n",
    "fun(**dct)"
   ]
  },
  {
   "cell_type": "code",
   "execution_count": 25,
   "id": "27890087",
   "metadata": {},
   "outputs": [
    {
     "name": "stdout",
     "output_type": "stream",
     "text": [
      "11\n",
      "2\n",
      "8\n",
      "14\n",
      "s 2\n",
      "w 7\n"
     ]
    }
   ],
   "source": [
    "def fun(x,y,z,*args,p,q,r,**kwargs):\n",
    "    print(x+y+z)\n",
    "    for i in args:\n",
    "        print(i)\n",
    "    print(p+q+r)\n",
    "    for k,j in kwargs.items():\n",
    "        print(k,j)\n",
    "fun(1,3,7,2,8,p=5,r=7,q=2,s=2,w=7)"
   ]
  },
  {
   "cell_type": "markdown",
   "id": "d103a39e",
   "metadata": {},
   "source": [
    "# Recursion"
   ]
  },
  {
   "cell_type": "code",
   "execution_count": 24,
   "id": "a374e175",
   "metadata": {},
   "outputs": [
    {
     "data": {
      "text/plain": [
       "120"
      ]
     },
     "execution_count": 24,
     "metadata": {},
     "output_type": "execute_result"
    }
   ],
   "source": [
    "def fun(n):\n",
    "    if n>0:\n",
    "        return n*fun(n-1)\n",
    "    else:\n",
    "        return 1\n",
    "fun(5)"
   ]
  },
  {
   "cell_type": "markdown",
   "id": "46e431cb",
   "metadata": {},
   "source": [
    "# Tail Reursion"
   ]
  },
  {
   "cell_type": "code",
   "execution_count": 37,
   "id": "0d2febbb",
   "metadata": {},
   "outputs": [
    {
     "name": "stdout",
     "output_type": "stream",
     "text": [
      "5\n",
      "4\n",
      "3\n",
      "2\n",
      "1\n"
     ]
    },
    {
     "data": {
      "text/plain": [
       "120"
      ]
     },
     "execution_count": 37,
     "metadata": {},
     "output_type": "execute_result"
    }
   ],
   "source": [
    "\n",
    "def fun(n):\n",
    "    #print(n)\n",
    "    if n>0:\n",
    "        print(n)\n",
    "        f = n*fun(n-1)\n",
    "        return f\n",
    "    else:\n",
    "        return 1\n",
    "    \n",
    "fun(5)\n"
   ]
  },
  {
   "cell_type": "markdown",
   "id": "96331016",
   "metadata": {},
   "source": [
    "# Head recursion"
   ]
  },
  {
   "cell_type": "code",
   "execution_count": 38,
   "id": "a248f6a5",
   "metadata": {},
   "outputs": [
    {
     "name": "stdout",
     "output_type": "stream",
     "text": [
      "1\n",
      "2\n",
      "3\n",
      "4\n",
      "5\n"
     ]
    },
    {
     "data": {
      "text/plain": [
       "120"
      ]
     },
     "execution_count": 38,
     "metadata": {},
     "output_type": "execute_result"
    }
   ],
   "source": [
    "def fun(n):\n",
    "    #print(n)\n",
    "    if n>0:\n",
    "        f = n*fun(n-1)\n",
    "        print(n)\n",
    "        return f\n",
    "    else:\n",
    "        return 1\n",
    "    \n",
    "fun(5)"
   ]
  },
  {
   "cell_type": "code",
   "execution_count": 39,
   "id": "ae1401da",
   "metadata": {},
   "outputs": [
    {
     "name": "stdout",
     "output_type": "stream",
     "text": [
      "enter the value of principal ammount 500\n",
      "enter the value of interest rate 6\n",
      "enter the value of time 5\n"
     ]
    },
    {
     "data": {
      "text/plain": [
       "150.0"
      ]
     },
     "execution_count": 39,
     "metadata": {},
     "output_type": "execute_result"
    }
   ],
   "source": [
    "def random(p,r,t):\n",
    "    f = (p*r*t)/100\n",
    "    return f\n",
    "m = int(input('enter the value of principal ammount '))\n",
    "n = int(input('enter the value of interest rate '))\n",
    "o = int(input('enter the value of time '))\n",
    "random(m,n,o)"
   ]
  },
  {
   "cell_type": "markdown",
   "id": "f7de24e3",
   "metadata": {},
   "source": [
    "# Q.1 Lets assume A0 page has dimension of l = 1189 b = 841 then what will be dimension of any page format of A5."
   ]
  },
  {
   "cell_type": "code",
   "execution_count": 4,
   "id": "a8964a99",
   "metadata": {},
   "outputs": [
    {
     "name": "stdout",
     "output_type": "stream",
     "text": [
      "1189 841 0\n",
      "841 594 1\n",
      "594 420 2\n",
      "420 297 3\n",
      "297 210 4\n",
      "210 148 5\n",
      "[210, 148]\n"
     ]
    }
   ],
   "source": [
    "def fun(l,b,n,size):\n",
    "    if  n ==size:\n",
    "        print(l,b,n)\n",
    "        #x = [l,b]\n",
    "        return [l,b];\n",
    "    else:\n",
    "        print(l,b,n)\n",
    "        return fun(b,int(l/2),n+1,size)\n",
    "        \n",
    "print(fun(1189,841,0,5))"
   ]
  },
  {
   "cell_type": "markdown",
   "id": "673be447",
   "metadata": {},
   "source": [
    "# Q.2 Write a program to find the nth term of fibbonaci series."
   ]
  },
  {
   "cell_type": "code",
   "execution_count": 28,
   "id": "c00b2459",
   "metadata": {},
   "outputs": [
    {
     "data": {
      "text/plain": [
       "34"
      ]
     },
     "execution_count": 28,
     "metadata": {},
     "output_type": "execute_result"
    }
   ],
   "source": [
    "def fun(n):\n",
    "    if n ==1:\n",
    "        #print(0)\n",
    "        return 0\n",
    "    elif n ==2:\n",
    "        #print(1)\n",
    "        return 1\n",
    "    else:\n",
    "        return fun(n-1)+fun(n-2)\n",
    "fun(10)"
   ]
  },
  {
   "cell_type": "markdown",
   "id": "ebfa3620",
   "metadata": {},
   "source": [
    "# Recursion questions"
   ]
  },
  {
   "cell_type": "code",
   "execution_count": 2,
   "id": "c877edda",
   "metadata": {},
   "outputs": [
    {
     "name": "stdout",
     "output_type": "stream",
     "text": [
      "enter the size of Triangle 5\n",
      "* \n",
      "* * \n",
      "* * * \n",
      "* * * * \n",
      "* * * * * \n",
      "5\n"
     ]
    }
   ],
   "source": [
    "# Right angle Triangle\n",
    "def fun(n,counter=1):\n",
    "    if counter ==n+1:\n",
    "        return n\n",
    "    else:\n",
    "        print('* '*counter)\n",
    "        return fun(n,counter+1)\n",
    "    \n",
    "a = int(input('enter the size of Triangle '))\n",
    "print(fun(a))"
   ]
  },
  {
   "cell_type": "code",
   "execution_count": 3,
   "id": "0524a21e",
   "metadata": {},
   "outputs": [
    {
     "name": "stdout",
     "output_type": "stream",
     "text": [
      "enter the number 5\n",
      "* * * * * \n",
      "* * * * \n",
      "* * * \n",
      "* * \n",
      "* \n",
      "5\n"
     ]
    }
   ],
   "source": [
    "def fun(counter):\n",
    "    if counter ==0:\n",
    "        return a \n",
    "    else:\n",
    "        print('* '*counter)\n",
    "        return fun(counter-1)\n",
    "    \n",
    "a = int(input('enter the number '))\n",
    "print(fun(a))"
   ]
  },
  {
   "cell_type": "code",
   "execution_count": 3,
   "id": "42257b15",
   "metadata": {},
   "outputs": [
    {
     "name": "stdout",
     "output_type": "stream",
     "text": [
      "enter the number 5\n",
      "     * \n",
      "    * * \n",
      "   * * * \n",
      "  * * * * \n",
      " * * * * * \n"
     ]
    },
    {
     "data": {
      "text/plain": [
       "5"
      ]
     },
     "execution_count": 3,
     "metadata": {},
     "output_type": "execute_result"
    }
   ],
   "source": [
    "def demo(n,counter=1):\n",
    "    if counter ==n+1:\n",
    "        return n  \n",
    "    else:\n",
    "        print(' '*(n-counter),'* '*counter)\n",
    "        return demo(n,counter+1)\n",
    "    \n",
    "a = int(input('enter the number '))\n",
    "demo(a)"
   ]
  },
  {
   "cell_type": "code",
   "execution_count": 3,
   "id": "2bb5a84e",
   "metadata": {},
   "outputs": [
    {
     "name": "stdout",
     "output_type": "stream",
     "text": [
      "enter the number 4\n",
      "* \n",
      "* * \n",
      "* * * \n",
      "* * * * \n",
      "* * * \n",
      "* * \n",
      "* \n"
     ]
    },
    {
     "data": {
      "text/plain": [
       "4"
      ]
     },
     "execution_count": 3,
     "metadata": {},
     "output_type": "execute_result"
    }
   ],
   "source": [
    "def demo(n,counter=1):\n",
    "    if counter == 2*n:\n",
    "        return n\n",
    "    elif counter <=n:\n",
    "        print('* '*counter)\n",
    "        return demo(n,counter+1)\n",
    "    else:\n",
    "        print('* '*(2*n-counter))\n",
    "        return demo(n,counter+1)\n",
    "    \n",
    "m = int(input('enter the number '))\n",
    "demo(m)"
   ]
  },
  {
   "cell_type": "code",
   "execution_count": 7,
   "id": "31d7c92f",
   "metadata": {},
   "outputs": [
    {
     "name": "stdout",
     "output_type": "stream",
     "text": [
      "enter the number 5\n",
      "   * * * * * \n",
      "     * * * * \n",
      "       * * * \n",
      "         * * \n",
      "           * \n"
     ]
    },
    {
     "data": {
      "text/plain": [
       "5"
      ]
     },
     "execution_count": 7,
     "metadata": {},
     "output_type": "execute_result"
    }
   ],
   "source": [
    "def demo(n,counter=1):\n",
    "    if counter == n+1:\n",
    "        return n\n",
    "    else:\n",
    "        print('  '*counter,'* '*(n-counter+1))\n",
    "        return demo(n,counter+1)\n",
    "m = int(input('enter the number '))\n",
    "demo(m)"
   ]
  },
  {
   "cell_type": "code",
   "execution_count": 8,
   "id": "29f9c872",
   "metadata": {},
   "outputs": [
    {
     "name": "stdout",
     "output_type": "stream",
     "text": [
      "enter the number 5\n",
      "           * \n",
      "         * * \n",
      "       * * * \n",
      "     * * * * \n",
      "   * * * * * \n"
     ]
    },
    {
     "data": {
      "text/plain": [
       "5"
      ]
     },
     "execution_count": 8,
     "metadata": {},
     "output_type": "execute_result"
    }
   ],
   "source": [
    "def demo(n,counter=1):\n",
    "    if counter == n+1:\n",
    "        return n\n",
    "    else:\n",
    "        print('  '*(n-counter+1),'* '*counter)\n",
    "        return demo(n,counter+1)\n",
    "m = int(input('enter the number '))\n",
    "demo(m)\n"
   ]
  },
  {
   "cell_type": "code",
   "execution_count": 13,
   "id": "55d959f5",
   "metadata": {},
   "outputs": [
    {
     "name": "stdout",
     "output_type": "stream",
     "text": [
      "enter the number 5\n",
      "1  \n",
      "22  \n",
      "333  \n",
      "4444  \n",
      "55555  \n"
     ]
    },
    {
     "data": {
      "text/plain": [
       "5"
      ]
     },
     "execution_count": 13,
     "metadata": {},
     "output_type": "execute_result"
    }
   ],
   "source": [
    "def demo(n,counter=1):\n",
    "    if counter ==n+1:\n",
    "        return n\n",
    "    else:\n",
    "        print(str(counter)*counter)\n",
    "        return demo(n,counter+1)\n",
    "m = int(input('enter the number '))\n",
    "demo(m)"
   ]
  },
  {
   "cell_type": "markdown",
   "id": "e739bb1e",
   "metadata": {},
   "source": [
    "# Module"
   ]
  },
  {
   "cell_type": "code",
   "execution_count": 6,
   "id": "10be8ebc",
   "metadata": {},
   "outputs": [
    {
     "name": "stdout",
     "output_type": "stream",
     "text": [
      "__main__\n"
     ]
    }
   ],
   "source": [
    "print(__name__) \n"
   ]
  },
  {
   "cell_type": "code",
   "execution_count": 5,
   "id": "f24e9a69",
   "metadata": {},
   "outputs": [
    {
     "name": "stdout",
     "output_type": "stream",
     "text": [
      "enter the value of angle a 60\n",
      "enter the value of angle b 60\n",
      "1.0\n",
      "hence proved\n"
     ]
    }
   ],
   "source": [
    "\n",
    "import math\n",
    "\n",
    "a = float(input('enter the value of angle a '))\n",
    "b = float(input('enter the value of angle b '))\n",
    "c = math.sin(math.radians(a))**2+math.cos(math.radians(b))**2\n",
    "print(c)\n",
    "if c ==1:\n",
    "    print('hence proved')\n",
    "\n",
    "else:\n",
    "    \n",
    "    print('not proved ')\n"
   ]
  },
  {
   "cell_type": "code",
   "execution_count": 9,
   "id": "6094f382",
   "metadata": {},
   "outputs": [
    {
     "data": {
      "text/plain": [
       "56"
      ]
     },
     "execution_count": 9,
     "metadata": {},
     "output_type": "execute_result"
    }
   ],
   "source": [
    "def work(e,f):\n",
    "    if e<f:\n",
    "        return work(f,e)\n",
    "    elif f!=0:\n",
    "        return (e+work(e,f-1))\n",
    "    else:\n",
    "        return 0\n",
    "work(7,8)\n",
    "        "
   ]
  },
  {
   "cell_type": "code",
   "execution_count": 8,
   "id": "a7c396c2",
   "metadata": {},
   "outputs": [
    {
     "name": "stdout",
     "output_type": "stream",
     "text": [
      "%d 5 5 1\n"
     ]
    }
   ],
   "source": [
    "a=1\n",
    "b=2\n",
    "c=3\n",
    "print('%d', a+a+3,5,a)"
   ]
  },
  {
   "cell_type": "code",
   "execution_count": 7,
   "id": "97c723a1",
   "metadata": {},
   "outputs": [
    {
     "name": "stdout",
     "output_type": "stream",
     "text": [
      "20\n",
      "10\n"
     ]
    }
   ],
   "source": [
    "a = 10\n",
    "b =++a\n",
    "c= a\n",
    "print(b+c)\n",
    "print(b)"
   ]
  },
  {
   "cell_type": "code",
   "execution_count": null,
   "id": "c66d17c7",
   "metadata": {},
   "outputs": [],
   "source": []
  }
 ],
 "metadata": {
  "kernelspec": {
   "display_name": "Python 3 (ipykernel)",
   "language": "python",
   "name": "python3"
  },
  "language_info": {
   "codemirror_mode": {
    "name": "ipython",
    "version": 3
   },
   "file_extension": ".py",
   "mimetype": "text/x-python",
   "name": "python",
   "nbconvert_exporter": "python",
   "pygments_lexer": "ipython3",
   "version": "3.9.12"
  }
 },
 "nbformat": 4,
 "nbformat_minor": 5
}
